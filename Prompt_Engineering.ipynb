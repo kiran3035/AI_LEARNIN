{
 "cells": [
  {
   "cell_type": "code",
   "execution_count": 15,
   "id": "5dbf9352-12f7-4095-be13-1323223ce96e",
   "metadata": {},
   "outputs": [],
   "source": [
    "!pip install -q langchain==0.0.208 openai==0.27.8 python-dotenv"
   ]
  },
  {
   "cell_type": "code",
   "execution_count": 16,
   "id": "8d065366-83d0-4da4-bde8-062fa56e38ab",
   "metadata": {},
   "outputs": [],
   "source": [
    "# Import necessary libraries\n",
    "import openai\n",
    "from transformers import AutoModel, AutoTokenizer, pipeline\n",
    "import os\n",
    "import tensorflow as tf\n",
    "\n",
    "# Set API key and configurations\n",
    "openai.api_key = \"YOUR_API_KEY\""
   ]
  },
  {
   "cell_type": "code",
   "execution_count": 5,
   "id": "5f12eaa9-56ff-47ce-b48c-ad4a7b939375",
   "metadata": {},
   "outputs": [
    {
     "name": "stdout",
     "output_type": "stream",
     "text": [
      "Pawan Kalyan was known throughout the land for his charisma and talent. He was a beloved actor and a renowned politician, admired for his dedication to serving the people. Despite his fame, Pawan Kalyan remained humble and always put others before himself. One day, as he was traveling through the countryside, he came across a village in need of help. Without hesitation, he rolled up his sleeves and got to work, inspiring others to join him in making a difference. And so, Pawan Kalyan's legacy of kindness and compassion continued to grow, leaving a lasting impact on all who crossed his path.\n"
     ]
    }
   ],
   "source": [
    "#story Generation \n",
    "\n",
    "prompt_system = \"You are a helpful assistant whose goal is to help write stories.\"\n",
    "\n",
    "prompt = \"\"\"Continue the following story. Write no more than 100 words.\n",
    "\n",
    "Once upon a time there lived a spuerstar Pawan kalyan\"\"\"\n",
    "\n",
    "response = openai.ChatCompletion.create(\n",
    "    model=\"gpt-3.5-turbo\",\n",
    "    messages=[\n",
    "        {\"role\": \"system\", \"content\": prompt_system},\n",
    "        {\"role\": \"user\", \"content\": prompt}\n",
    "    ]\n",
    ")\n",
    "\n",
    "print(response.choices[0]['message']['content'])"
   ]
  },
  {
   "cell_type": "code",
   "execution_count": 18,
   "id": "313b8e10-8e28-47b8-a5f9-014d36cd27fe",
   "metadata": {},
   "outputs": [
    {
     "name": "stdout",
     "output_type": "stream",
     "text": [
      "Unleash the thrill of the road with our limited-edition Enfield bike, featuring a handcrafted twin engine and a roaring exhaust that commands attention. Experience luxury at its finest as you ride in style and power. Own the road with this exclusive masterpiece.\n"
     ]
    }
   ],
   "source": [
    "# Product Description\n",
    "\n",
    "prompt_system = \"\"\"You are a helpful assistant whose goal is to help write \\\n",
    "product descriptions.\"\"\"\n",
    "\n",
    "prompt = \"\"\"Write a captivating product description for a luxurious, handcrafted\\\n",
    ", limited-edition Enfield bike with twin engine and loud exhaust.\n",
    "Write no more than 50 words.\"\"\"\n",
    "\n",
    "response = openai.ChatCompletion.create(\n",
    "    model=\"gpt-3.5-turbo\",\n",
    "    messages=[\n",
    "        {\"role\": \"system\", \"content\": prompt_system},\n",
    "        {\"role\": \"user\", \"content\": prompt}\n",
    "    ]\n",
    ")\n",
    "\n",
    "print(response.choices[0]['message']['content'])"
   ]
  },
  {
   "cell_type": "code",
   "execution_count": 19,
   "id": "602e8738-e965-47a4-9e89-24481954356e",
   "metadata": {},
   "outputs": [
    {
     "name": "stdout",
     "output_type": "stream",
     "text": [
      "Under dark skies, stars shine bright,\n",
      "Guiding us through the darkest night,\n",
      "A celestial dance above our heads,\n",
      "Where dreams take flight in starry threads.\n",
      "\n",
      "In quiet reverence, we behold,\n",
      "The wonders of the universe unfold,\n",
      "A tapestry of light and mystery,\n",
      "In this realm of endless history.\n",
      "\n",
      "International dark skies, a precious sight,\n",
      "Where the cosmos paints its canvas of light,\n",
      "Let us cherish and protect this gift,\n",
      "And in its beauty, our spirits lift.\n"
     ]
    }
   ],
   "source": [
    "#Zero shot Prompt\n",
    "\n",
    "prompt_system = \"You are a helpful assistant whose goal is to write short poems.\"\n",
    "\n",
    "prompt = \"\"\"Write a short poem about {topic}.\"\"\"\n",
    "\n",
    "response = openai.ChatCompletion.create(\n",
    "    model=\"gpt-3.5-turbo\",\n",
    "    messages=[\n",
    "        {\"role\": \"system\", \"content\": prompt_system},\n",
    "        {\"role\": \"user\", \"content\": prompt.format(topic=\"International dark skies\")}\n",
    "    ]\n",
    ")\n",
    "\n",
    "print(response.choices[0]['message']['content'])"
   ]
  },
  {
   "cell_type": "code",
   "execution_count": 20,
   "id": "1324486d-e2a8-4bec-9db1-41841189ac11",
   "metadata": {},
   "outputs": [
    {
     "name": "stdout",
     "output_type": "stream",
     "text": [
      "Sunshine warms the earth,\n",
      "Laughter and joy fill the air,\n",
      "Summer days so bright.\n"
     ]
    }
   ],
   "source": [
    "#Incontext/FewShot Prompting\n",
    "\n",
    "prompt_system = \"You are a helpful assistant whose goal is to write short poems.\"\n",
    "\n",
    "prompt = \"\"\"Write a short poem about {topic}.\"\"\"\n",
    "\n",
    "examples = {\n",
    "    \"nature\": \"\"\"Birdsong fills the air,\\nMountains high and valleys \\\n",
    "deep,\\nNature's music sweet.\"\"\",\n",
    "    \"winter\": \"\"\"Snow blankets the ground,\\nSilence is the only \\\n",
    "sound,\\nWinter's beauty found.\"\"\"\n",
    "}\n",
    "\n",
    "response = openai.ChatCompletion.create(\n",
    "    model=\"gpt-3.5-turbo\",\n",
    "    messages=[\n",
    "        {\"role\": \"system\", \"content\": prompt_system},\n",
    "        {\"role\": \"user\", \"content\": prompt.format(topic=\"nature\")},\n",
    "        {\"role\": \"assistant\", \"content\": examples[\"nature\"]},\n",
    "        {\"role\": \"user\", \"content\": prompt.format(topic=\"winter\")},\n",
    "        {\"role\": \"assistant\", \"content\": examples[\"winter\"]},\n",
    "        {\"role\": \"user\", \"content\": prompt.format(topic=\"summer\")}\n",
    "    ]\n",
    ")\n",
    "\n",
    "print(response.choices[0]['message']['content'])"
   ]
  },
  {
   "cell_type": "code",
   "execution_count": 25,
   "id": "f2ed412c-ab6f-4c05-af1e-9c9884ed211e",
   "metadata": {},
   "outputs": [
    {
     "name": "stdout",
     "output_type": "stream",
     "text": [
      "Car Type: convertible\n",
      "Engine: V6 engine with a balance of power and efficiency\n"
     ]
    }
   ],
   "source": [
    "from langchain import PromptTemplate, FewShotPromptTemplate, LLMChain\n",
    "from langchain.chat_models import ChatOpenAI\n",
    "\n",
    "# Hardcode your OpenAI API key\n",
    "openai.api_key = \"YOUR_API_KEY\"\n",
    "\n",
    "# Initialize LLM with the hardcoded API key\n",
    "llm = ChatOpenAI(model_name=\"gpt-3.5-turbo\", temperature=0, openai_api_key=openai.api_key)\n",
    "\n",
    "# Examples of car types and their associated engines\n",
    "examples = [\n",
    "    {\"car_type\": \"sports car\", \"engine\": \"V8 engine with high horsepower\"},\n",
    "    {\"car_type\": \"SUV\", \"engine\": \"V6 engine with a balance of power and efficiency\"},\n",
    "    {\"car_type\": \"sedan\", \"engine\": \"Inline-4 engine for fuel efficiency and smooth performance\"},\n",
    "]\n",
    "\n",
    "# Template for formatting examples\n",
    "example_formatter_template = \"\"\"\n",
    "Car Type: {car_type}\n",
    "Engine: {engine}\\n\n",
    "\"\"\"\n",
    "example_prompt = PromptTemplate(\n",
    "    input_variables=[\"car_type\", \"engine\"],\n",
    "    template=example_formatter_template,\n",
    ")\n",
    "\n",
    "# Few-shot prompting setup\n",
    "few_shot_prompt = FewShotPromptTemplate(\n",
    "    examples=examples,\n",
    "    example_prompt=example_prompt,\n",
    "    prefix=\"\"\"Here are some examples of car types and their associated \\\n",
    "engines:\\n\\n\"\"\",\n",
    "    suffix=\"\"\"\\n\\nNow, given a new car type, identify the engine associated with \\\n",
    "it:\\n\\nCar Type: {input}\\nEngine:\"\"\",\n",
    "    input_variables=[\"input\"],\n",
    "    example_separator=\"\\n\",\n",
    ")\n",
    "\n",
    "# Format the prompt with a new car type\n",
    "formatted_prompt = few_shot_prompt.format(input=\"convertible\")\n",
    "\n",
    "# Create the LLMChain for the prompt\n",
    "chain = LLMChain(llm=llm, prompt=PromptTemplate(template=formatted_prompt, input_variables=[]))\n",
    "\n",
    "# Run the LLMChain to get the AI-generated engine associated with the input car type\n",
    "response = chain.run({})\n",
    "\n",
    "# Print the result\n",
    "print(\"Car Type: convertible\")\n",
    "print(\"Engine:\", response)\n"
   ]
  },
  {
   "cell_type": "code",
   "execution_count": 28,
   "id": "00d76a4c-0fae-4cd4-b905-e97adf90fe39",
   "metadata": {},
   "outputs": [
    {
     "name": "stdout",
     "output_type": "stream",
     "text": [
      "Subject: Subhash Chandra Bose\n",
      "AI-generated song title: \"Legacy of Freedom: In the Spirit of Subhash Chandra Bose\"\n"
     ]
    }
   ],
   "source": [
    "# ROLE PROMPTING\n",
    "from langchain import PromptTemplate, LLMChain\n",
    "from langchain.chat_models import ChatOpenAI\n",
    "\n",
    "# Hardcode your OpenAI API key\n",
    "openai.api_key = \"YOUR_API_KEY\"\n",
    "# Initialize LLM with the hardcoded API key\n",
    "llm = ChatOpenAI(model_name=\"gpt-3.5-turbo\", temperature=1, openai_api_key=openai.api_key)\n",
    "\n",
    "\n",
    "# Template for generating a song title\n",
    "template = \"\"\"\n",
    "As a patriotic songwriter, I need your help to come up with a powerful song title.\n",
    "What's an inspiring song title for a song about patriotism, dedicated to the legacy of {subject}?\n",
    "\"\"\"\n",
    "prompt = PromptTemplate(\n",
    "    input_variables=[\"subject\"],\n",
    "    template=template,\n",
    ")\n",
    "\n",
    "# Create the LLMChain for the prompt\n",
    "chain = LLMChain(llm=llm, prompt=prompt)\n",
    "\n",
    "# Input data for the prompt\n",
    "input_data = {\"subject\": \"Subhash Chandra Bose\"}\n",
    "\n",
    "# Run the LLMChain to get the AI-generated song title\n",
    "response = chain.run(input_data)\n",
    "\n",
    "print(\"Subject: Subhash Chandra Bose\")\n",
    "print(\"AI-generated song title:\", response)\n"
   ]
  },
  {
   "cell_type": "code",
   "execution_count": 30,
   "id": "86cc961c-fe0f-43e7-b8a0-a152a72bc450",
   "metadata": {},
   "outputs": [
    {
     "name": "stdout",
     "output_type": "stream",
     "text": [
      "Capital of Andhra Pradesh: Amaravati\n",
      "Fact about the capital: Amaravati is known for its rich cultural history and was once the capital of the Satavahana dynasty, one of the earliest Indian empires. Its name is derived from the Amaravathi river that flows through the region.\n"
     ]
    }
   ],
   "source": [
    "#CHAIN PROMPTING \n",
    "\n",
    "# Prompt 1: Find the capital of Andhra Pradesh\n",
    "template_question = \"\"\"What is the capital of Andhra Pradesh?\n",
    "Answer: \"\"\"\n",
    "prompt_question = PromptTemplate(template=template_question, input_variables=[])\n",
    "\n",
    "# Prompt 2: Provide a fact about the capital\n",
    "template_fact = \"\"\"Provide an interesting fact about {capital}, the capital of Andhra Pradesh.\n",
    "Answer: \"\"\"\n",
    "prompt_fact = PromptTemplate(input_variables=[\"capital\"], template=template_fact)\n",
    "\n",
    "# Create the LLMChain for the first prompt\n",
    "chain_question = LLMChain(llm=llm, prompt=prompt_question)\n",
    "\n",
    "# Run the LLMChain for the first prompt with an empty dictionary\n",
    "response_question = chain_question.run({})\n",
    "\n",
    "# Extract the capital from the response\n",
    "capital = response_question.strip()\n",
    "\n",
    "# Create the LLMChain for the second prompt\n",
    "chain_fact = LLMChain(llm=llm, prompt=prompt_fact)\n",
    "\n",
    "# Input data for the second prompt\n",
    "input_data = {\"capital\": capital}\n",
    "\n",
    "# Run the LLMChain for the second prompt\n",
    "response_fact = chain_fact.run(input_data)\n",
    "\n",
    "print(\"Capital of Andhra Pradesh:\", capital)\n",
    "print(\"Fact about the capital:\", response_fact)"
   ]
  },
  {
   "cell_type": "code",
   "execution_count": 32,
   "id": "eb75af05-d3e9-4d87-a8d0-88eed93279b4",
   "metadata": {},
   "outputs": [
    {
     "data": {
      "text/plain": [
       "'Tell me something about HUMANS.'"
      ]
     },
     "execution_count": 32,
     "metadata": {},
     "output_type": "execute_result"
    }
   ],
   "source": [
    "# How to not give Prompts \n",
    "\n",
    "template = \"Tell me something about {topic}.\"\n",
    "prompt = PromptTemplate(\n",
    "    input_variables=[\"topic\"],\n",
    "    template=template,\n",
    ")\n",
    "prompt.format(topic=\"HUMANS\")"
   ]
  },
  {
   "cell_type": "code",
   "execution_count": 33,
   "id": "04b9c833-c90b-414c-8db5-ad9482baa5e6",
   "metadata": {},
   "outputs": [
    {
     "name": "stdout",
     "output_type": "stream",
     "text": [
      "Person: Sachin Tendulkar\n",
      "Fact: Sachin Tendulkar holds the record for scoring the most runs in international cricket, with a total of 34,357 runs across all formats (Tests, ODIs, and T20s). He is considered one of the greatest cricketers of all time and is often referred to as the \"God of Cricket\" in India. Additionally, he is the only player in history to have scored one hundred international centuries.\n"
     ]
    }
   ],
   "source": [
    "# Prompt 1: Identify Sachin Tendulkar\n",
    "template_question = \"\"\"Who is known as the \"God of Cricket\" in India?\n",
    "Answer: \"\"\"\n",
    "prompt_question = PromptTemplate(template=template_question, input_variables=[])\n",
    "\n",
    "# Prompt 2: Provide an interesting fact about Sachin Tendulkar\n",
    "template_fact = \"\"\"Tell me something interesting about {person}.\n",
    "Answer: \"\"\"\n",
    "prompt_fact = PromptTemplate(input_variables=[\"person\"], template=template_fact)\n",
    "\n",
    "# Create the LLMChain for the first prompt\n",
    "chain_question = LLMChain(llm=llm, prompt=prompt_question)\n",
    "\n",
    "# Run the LLMChain for the first prompt with an empty dictionary\n",
    "response_question = chain_question.run({})\n",
    "\n",
    "# Extract the person's name from the response\n",
    "person = response_question.strip()\n",
    "\n",
    "# Create the LLMChain for the second prompt\n",
    "chain_fact = LLMChain(llm=llm, prompt=prompt_fact)\n",
    "\n",
    "# Input data for the second prompt\n",
    "input_data = {\"person\": person}\n",
    "\n",
    "# Run the LLMChain for the second prompt\n",
    "response_fact = chain_fact.run(input_data)\n",
    "\n",
    "print(\"Person:\", person)\n",
    "print(\"Fact:\", response_fact)"
   ]
  },
  {
   "cell_type": "code",
   "execution_count": 35,
   "id": "47768d17-1f8c-4f57-b767-b39faef76e8f",
   "metadata": {},
   "outputs": [
    {
     "name": "stdout",
     "output_type": "stream",
     "text": [
      "Aspects of Cricket: batting bowling fielding\n",
      "Fact: Batting, bowling, and fielding are three essential components of cricket. Batting involves a player using a bat to score runs for their team, while bowling requires a player to deliver the ball accurately towards the batsman with the aim of getting them out. Fielding refers to the players' ability to prevent runs and take catches to dismiss the opposing team's batsmen. Each aspect requires skill, strategy, and coordination among team members to excel and achieve success on the field. Whether it is showcasing power with the bat, accuracy in bowling, or agility in the field, each player plays a crucial role in the game of cricket.\n"
     ]
    }
   ],
   "source": [
    "# Prompt 1: Get cricket-related topics\n",
    "template_question = \"\"\"What are some aspects of cricket that people find interesting?\n",
    "Answer: \"\"\"\n",
    "prompt_question = PromptTemplate(template=template_question, input_variables=[])\n",
    "\n",
    "# Prompt 2: Provide a fact about three aspects of cricket\n",
    "template_fact = \"\"\" In about 100 words Tell me something about {aspect1}, {aspect2}, and {aspect3} without giving specific details.\n",
    "Answer: \"\"\"\n",
    "prompt_fact = PromptTemplate(input_variables=[\"aspect1\", \"aspect2\", \"aspect3\"], template=template_fact)\n",
    "\n",
    "# Create the LLMChain for the first prompt\n",
    "chain_question = LLMChain(llm=llm, prompt=prompt_question)\n",
    "\n",
    "# Run the LLMChain for the first prompt with an empty dictionary\n",
    "response_question = chain_question.run({})\n",
    "\n",
    "# Assign three hardcoded aspects of cricket\n",
    "aspect1, aspect2, aspect3 = \"batting\", \"bowling\", \"fielding\"\n",
    "\n",
    "# Create the LLMChain for the second prompt\n",
    "chain_fact = LLMChain(llm=llm, prompt=prompt_fact)\n",
    "\n",
    "# Input data for the second prompt\n",
    "input_data = {\"aspect1\": aspect1, \"aspect2\": aspect2, \"aspect3\": aspect3}\n",
    "\n",
    "# Run the LLMChain for the second prompt\n",
    "response_fact = chain_fact.run(input_data)\n",
    "\n",
    "print(\"Aspects of Cricket:\", aspect1, aspect2, aspect3)\n",
    "print(\"Fact:\", response_fact)"
   ]
  },
  {
   "cell_type": "code",
   "execution_count": 37,
   "id": "ede35dd2-8390-48e4-8370-01d28d6ec11a",
   "metadata": {},
   "outputs": [
    {
     "name": "stdout",
     "output_type": "stream",
     "text": [
      "User Query: What are some tips for improving communication skills?\n",
      "AI Response: Active listening, asking clarifying questions, and practicing empathy are key elements in improving communication skills. Additionally, being mindful of your body language and tone of voice can also greatly enhance your ability to connect with others.\n"
     ]
    }
   ],
   "source": [
    "# Tips for the best Prompting \n",
    "\n",
    "examples = [\n",
    "    {\n",
    "        \"query\": \"What's the secret to happiness?\",\n",
    "        \"answer\": \"Finding balance in life and learning to enjoy the small moments.\"\n",
    "    }, {\n",
    "        \"query\": \"How can I become more productive?\",\n",
    "        \"answer\": \"Try prioritizing tasks, setting goals, and maintaining a healthy work-life balance.\"\n",
    "    }\n",
    "]\n",
    "\n",
    "example_template = \"\"\"\n",
    "User: {query}\n",
    "AI: {answer}\n",
    "\"\"\"\n",
    "\n",
    "example_prompt = PromptTemplate(\n",
    "    input_variables=[\"query\", \"answer\"],\n",
    "    template=example_template\n",
    ")\n",
    "\n",
    "prefix = \"\"\"The following are excerpts from conversations with an AI\n",
    "life coach. The assistant provides insightful and practical advice to the users' questions. Here are some\n",
    "examples:\n",
    "\"\"\"\n",
    "\n",
    "suffix = \"\"\"\n",
    "User: {query}\n",
    "AI: \"\"\"\n",
    "\n",
    "few_shot_prompt_template = FewShotPromptTemplate(\n",
    "    examples=examples,\n",
    "    example_prompt=example_prompt,\n",
    "    prefix=prefix,\n",
    "    suffix=suffix,\n",
    "    input_variables=[\"query\"],\n",
    "    example_separator=\"\\n\\n\"\n",
    ")\n",
    "\n",
    "# Create the LLMChain for the few-shot prompt template\n",
    "chain = LLMChain(llm=llm, prompt=few_shot_prompt_template)\n",
    "\n",
    "# Define the user query\n",
    "user_query = \"What are some tips for improving communication skills?\"\n",
    "\n",
    "# Run the LLMChain for the user query\n",
    "response = chain.run({\"query\": user_query})\n",
    "\n",
    "print(\"User Query:\", user_query)\n",
    "print(\"AI Response:\", response)"
   ]
  }
 ],
 "metadata": {
  "kernelspec": {
   "display_name": "Python 3 (ipykernel)",
   "language": "python",
   "name": "python3"
  },
  "language_info": {
   "codemirror_mode": {
    "name": "ipython",
    "version": 3
   },
   "file_extension": ".py",
   "mimetype": "text/x-python",
   "name": "python",
   "nbconvert_exporter": "python",
   "pygments_lexer": "ipython3",
   "version": "3.12.7"
  }
 },
 "nbformat": 4,
 "nbformat_minor": 5
}
